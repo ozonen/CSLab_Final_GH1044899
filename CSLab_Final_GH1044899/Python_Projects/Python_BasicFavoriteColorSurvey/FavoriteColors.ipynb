{
 "cells": [
  {
   "cell_type": "markdown",
   "id": "b4a3da52-30f5-4e0c-9904-288ebb0018da",
   "metadata": {},
   "source": [
    "# Favorite Color Survey\n"
   ]
  },
  {
   "cell_type": "code",
   "execution_count": 1,
   "id": "ce79c7df",
   "metadata": {},
   "outputs": [
    {
     "name": "stdin",
     "output_type": "stream",
     "text": [
      "How many persons did you ask?  5\n"
     ]
    },
    {
     "name": "stdout",
     "output_type": "stream",
     "text": [
      "\n",
      "Available colors: Red, Blue, Green, Yellow, Purple\n",
      "Now enter each person's favorite color:\n"
     ]
    },
    {
     "name": "stdin",
     "output_type": "stream",
     "text": [
      "Person 1's favorite color:  green\n",
      "Person 2's favorite color:  green\n",
      "Person 3's favorite color:  blue\n",
      "Person 4's favorite color:  red\n",
      "Person 5's favorite color:  yellow\n"
     ]
    },
    {
     "name": "stdout",
     "output_type": "stream",
     "text": [
      "\n",
      "Survey Results (Unsorted):\n",
      "Red: █ (1 votes)\n",
      "Blue: █ (1 votes)\n",
      "Green: ██ (2 votes)\n",
      "Yellow: █ (1 votes)\n",
      "Purple:  (0 votes)\n",
      "\n",
      "Survey Results (Sorted by Votes):\n",
      "Green: ██ (2 votes - 40.0%)\n",
      "Red: █ (1 votes - 20.0%)\n",
      "Blue: █ (1 votes - 20.0%)\n",
      "Yellow: █ (1 votes - 20.0%)\n",
      "Purple:  (0 votes - 0.0%)\n",
      "\n",
      "Most Popular Color: Green with 2 votes!\n"
     ]
    }
   ],
   "source": [
    "possible_colors = ['Red', 'Blue', 'Green', 'Yellow', 'Purple']\n",
    "votes = {color: 0 for color in possible_colors}\n",
    "\n",
    "num_persons = int(input(\"how many people did you ask? \"))\n",
    "\n",
    "print(\"\\nAvailable colors:\", \", \".join(possible_colors))\n",
    "print(\"now enter each person's favorite color:\")\n",
    "\n",
    "for i in range(num_persons):\n",
    "    choice = input(f\"Person {i+1}'s favorite color: \").capitalize()\n",
    "    if choice in votes:\n",
    "        votes[choice] += 1\n",
    "    else:\n",
    "        print(\"invalid color. dummy...\")\n",
    "\n",
    "print(\"\\nSurvey Results (Unsorted):\")\n",
    "for color in possible_colors:\n",
    "    bar = '-' * votes[color]\n",
    "    print(f\"{color}: {bar} ({votes[color]} votes)\")\n",
    "\n",
    "sorted_votes = sorted(votes.items(), key=lambda x: x[1], reverse=True)\n",
    "\n",
    "print(\"\\nSurvey Results (Sorted by Votes):\")\n",
    "for color, count in sorted_votes:\n",
    "    percentage = (count / num_persons * 100) if num_persons > 0 else 0\n",
    "    bar = '-' * count\n",
    "    print(f\"{color}: {bar} ({count} votes - {percentage:.1f}%)\")\n",
    "\n",
    "most_voted_color, max_votes = sorted_votes[0]\n",
    "print(f\"\\nMost Popular Color: {most_voted_color} with {max_votes} votes!\")"
   ]
  },
  {
   "cell_type": "code",
   "execution_count": null,
   "id": "9b80783a-18e1-43cf-99b8-ba24930a6cff",
   "metadata": {},
   "outputs": [],
   "source": []
  }
 ],
 "metadata": {
  "kernelspec": {
   "display_name": "Python 3 (ipykernel)",
   "language": "python",
   "name": "python3"
  },
  "language_info": {
   "codemirror_mode": {
    "name": "ipython",
    "version": 3
   },
   "file_extension": ".py",
   "mimetype": "text/x-python",
   "name": "python",
   "nbconvert_exporter": "python",
   "pygments_lexer": "ipython3",
   "version": "3.13.5"
  }
 },
 "nbformat": 4,
 "nbformat_minor": 5
}
