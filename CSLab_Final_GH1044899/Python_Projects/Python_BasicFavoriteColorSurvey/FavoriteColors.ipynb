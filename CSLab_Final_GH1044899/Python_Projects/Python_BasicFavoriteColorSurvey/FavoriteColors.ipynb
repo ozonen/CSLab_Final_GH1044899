{
 "cells": [
  {
   "cell_type": "markdown",
   "id": "b4a3da52-30f5-4e0c-9904-288ebb0018da",
   "metadata": {},
   "source": [
    "# Favorite Color Survey\n"
   ]
  },
  {
   "cell_type": "code",
   "execution_count": null,
   "id": "ce79c7df",
   "metadata": {},
   "outputs": [
    {
     "name": "stdin",
     "output_type": "stream",
     "text": [
      "How many people did you ask?  99\n"
     ]
    },
    {
     "name": "stdout",
     "output_type": "stream",
     "text": [
      "\n",
      "Available colors: red, blue, green, yellow, purple, orange, white, black\n",
      "Now enter each person's favorite color:\n"
     ]
    }
   ],
   "source": [
    "# Data of the colors\n",
    "colors = ['red', 'blue', 'green', 'yellow', 'purple', 'orange', 'white', 'black']\n",
    "votes = {color: 0 for color in colors}\n",
    "\n",
    "# The number of people joined in this survey\n",
    "people = int(input(\"How many people did you ask? \"))\n",
    "\n",
    "# To ask people their fav color\n",
    "print(\"\\nAvailable colors:\", \", \".join(colors))\n",
    "print(\"Now enter each person's favorite color:\")\n",
    "\n",
    "# Loop method for counting\n",
    "for i in range(people):\n",
    "    choice = input(f\"Person {i+1}'s favorite color: \").lower() \n",
    "    if choice in votes:\n",
    "        votes[choice] += 1\n",
    "    else:\n",
    "        print(\"There is no such color in our data xd, sorry\")\n",
    "\n",
    "# To print the survey results (unsorted)\n",
    "print(\"\\nSurvey Results (Unsorted):\")\n",
    "for color in colors:\n",
    "    bar = '-' * votes[color]\n",
    "    print(f\"{color}: {bar} ({votes[color]} votes)\")\n",
    "\n",
    "# For sorting the data\n",
    "sorted_votes = sorted(votes.items(), key=lambda x: x[1], reverse=True)\n",
    "\n",
    "# Another loop to generate the percentage of the fav color in this survey\n",
    "print(\"\\nSurvey Results (Sorted by Votes):\")\n",
    "for color, count in sorted_votes:\n",
    "    percentage = (count / people * 100) if people > 0 else 0\n",
    "    bar = '-' * count\n",
    "    print(f\"{color}: {bar} ({count} votes - {percentage:.1f}%)\")\n",
    "\n",
    "# To show which one is the favorite one\n",
    "most_voted_color, max_votes = sorted_votes[0]\n",
    "print(f\"\\nMost popular color is: {most_voted_color} with {max_votes} votes!\")\n"
   ]
  },
  {
   "cell_type": "code",
   "execution_count": null,
   "id": "39abe061-6a3a-43d8-97d7-e02d0ac0a49f",
   "metadata": {},
   "outputs": [],
   "source": []
  },
  {
   "cell_type": "code",
   "execution_count": null,
   "id": "2bb66cf6-f0fb-4b34-bb57-9503f543d6ef",
   "metadata": {},
   "outputs": [],
   "source": []
  }
 ],
 "metadata": {
  "kernelspec": {
   "display_name": "Python 3 (ipykernel)",
   "language": "python",
   "name": "python3"
  },
  "language_info": {
   "codemirror_mode": {
    "name": "ipython",
    "version": 3
   },
   "file_extension": ".py",
   "mimetype": "text/x-python",
   "name": "python",
   "nbconvert_exporter": "python",
   "pygments_lexer": "ipython3",
   "version": "3.13.5"
  }
 },
 "nbformat": 4,
 "nbformat_minor": 5
}
