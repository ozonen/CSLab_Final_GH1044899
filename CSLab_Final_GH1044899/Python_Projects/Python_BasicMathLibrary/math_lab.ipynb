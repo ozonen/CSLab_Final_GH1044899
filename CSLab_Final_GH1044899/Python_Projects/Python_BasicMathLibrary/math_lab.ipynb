{
 "cells": [
  {
   "cell_type": "markdown",
   "id": "63c86017-0c4e-49c9-82ec-5978e9af2853",
   "metadata": {},
   "source": [
    "# -Basic Math Library in Python-"
   ]
  },
  {
   "cell_type": "markdown",
   "id": "0ce39920-5b2b-4a37-8f6f-1b46af14143f",
   "metadata": {},
   "source": [
    "### Allows you to execute simple math formulas"
   ]
  },
  {
   "cell_type": "markdown",
   "id": "5943e9d9-240d-41c8-814d-d4d62bbfb20d",
   "metadata": {},
   "source": [
    "### -Import Functions"
   ]
  },
  {
   "cell_type": "code",
   "execution_count": 16,
   "id": "00248368-c1ab-4990-8056-cfddfd32a9a6",
   "metadata": {},
   "outputs": [],
   "source": [
    "from math_lib import (factorial, median, mean, mode, power, is_prime, variance, standard_deviation, square_root)"
   ]
  },
  {
   "cell_type": "markdown",
   "id": "087fa51b-902b-4ce8-ad03-bb19456db299",
   "metadata": {},
   "source": [
    "### Factorial Calculation"
   ]
  },
  {
   "cell_type": "code",
   "execution_count": 21,
   "id": "74b51f05-4db5-4950-a25a-9cc1a5e353fa",
   "metadata": {},
   "outputs": [
    {
     "name": "stdout",
     "output_type": "stream",
     "text": [
      "5! = 120\n",
      "8! = 40320\n"
     ]
    }
   ],
   "source": [
    "print(\"5! =\", factorial(5))\n",
    "print(\"8! =\", factorial(8))"
   ]
  },
  {
   "cell_type": "markdown",
   "id": "aa0b2815-fda3-478e-85b2-21b81be749b4",
   "metadata": {},
   "source": [
    "### Median "
   ]
  },
  {
   "cell_type": "code",
   "execution_count": 18,
   "id": "fea55a46-997c-4c25-b794-c70b7a63e299",
   "metadata": {},
   "outputs": [
    {
     "name": "stdout",
     "output_type": "stream",
     "text": [
      "Median of [5, 1, 9] = 5\n",
      "Median of [4, 2, 6, 8] = 5.0\n"
     ]
    }
   ],
   "source": [
    "print(\"Median of [5, 1, 9] =\", median([5, 1, 9]))       \n",
    "print(\"Median of [4, 2, 6, 8] =\", median([4, 2, 6, 8]))  "
   ]
  },
  {
   "cell_type": "markdown",
   "id": "675b98e1-21a9-4548-b293-a8262217e9db",
   "metadata": {},
   "source": [
    "### Mean"
   ]
  },
  {
   "cell_type": "code",
   "execution_count": 22,
   "id": "13f7e134-cb55-48ae-b29a-49a177fcaa87",
   "metadata": {},
   "outputs": [
    {
     "name": "stdout",
     "output_type": "stream",
     "text": [
      "Mean of [1, 2, 3, 4] = 2.5\n"
     ]
    }
   ],
   "source": [
    "print(\"Mean of [1, 2, 3, 4] =\", mean([1, 2, 3, 4]))  "
   ]
  },
  {
   "cell_type": "markdown",
   "id": "08605e5a-a9a5-4749-96db-44cf03487f56",
   "metadata": {},
   "source": [
    "### Mode"
   ]
  },
  {
   "cell_type": "code",
   "execution_count": 23,
   "id": "7d2cec03-3b64-4792-b04e-249d82a5e8a7",
   "metadata": {},
   "outputs": [
    {
     "name": "stdout",
     "output_type": "stream",
     "text": [
      "Mode of [1, 2, 2, 3, 4] = 2\n",
      "Mode of [1, 1, 2, 2, 3] = [1, 2]\n"
     ]
    }
   ],
   "source": [
    "print(\"Mode of [1, 2, 2, 3, 4] =\", mode([1, 2, 2, 3, 4])) \n",
    "print(\"Mode of [1, 1, 2, 2, 3] =\", mode([1, 1, 2, 2, 3]))  "
   ]
  },
  {
   "cell_type": "markdown",
   "id": "7eb0ac11-f554-4f48-9ac4-5e22f7e767f6",
   "metadata": {},
   "source": [
    "### Power"
   ]
  },
  {
   "cell_type": "code",
   "execution_count": 20,
   "id": "6baf9cf0-077b-46cc-b8be-a29b991adfe1",
   "metadata": {},
   "outputs": [
    {
     "name": "stdout",
     "output_type": "stream",
     "text": [
      "2^5 = 32\n",
      "3^4 = 81\n"
     ]
    }
   ],
   "source": [
    "print(\"2^5 =\", power(2, 5))\n",
    "print(\"3^4 =\", power(3, 4))"
   ]
  },
  {
   "cell_type": "markdown",
   "id": "e5124e50-de85-4b0b-9747-0af98c7caf58",
   "metadata": {},
   "source": [
    "### Prime"
   ]
  },
  {
   "cell_type": "code",
   "execution_count": 9,
   "id": "f33b6e59-c91a-4b03-adaa-dd31ab6cbcfb",
   "metadata": {},
   "outputs": [
    {
     "name": "stdout",
     "output_type": "stream",
     "text": [
      "Is 13 prime? True\n",
      "Is 15 prime? False\n"
     ]
    }
   ],
   "source": [
    "print(\"Is 13 prime?\", is_prime(13))  \n",
    "print(\"Is 15 prime?\", is_prime(15))  "
   ]
  },
  {
   "cell_type": "markdown",
   "id": "caa08b98-53f4-488c-aec7-200c9ad4c859",
   "metadata": {},
   "source": [
    "### Variance"
   ]
  },
  {
   "cell_type": "code",
   "execution_count": 10,
   "id": "c8e479e2-2203-411a-8f85-f408c1548220",
   "metadata": {},
   "outputs": [
    {
     "name": "stdout",
     "output_type": "stream",
     "text": [
      "Variance = 4.0\n"
     ]
    }
   ],
   "source": [
    "data = [2, 4, 4, 4, 5, 5, 7, 9]\n",
    "print(\"Variance =\", variance(data))  "
   ]
  },
  {
   "cell_type": "markdown",
   "id": "ef2e978a-331e-4874-93fb-3a398da20c22",
   "metadata": {},
   "source": [
    "### Standard Deviation"
   ]
  },
  {
   "cell_type": "code",
   "execution_count": 11,
   "id": "4f321a8a-286a-4c19-824a-9235e0381636",
   "metadata": {},
   "outputs": [
    {
     "name": "stdout",
     "output_type": "stream",
     "text": [
      "Standard Deviation = 2.0\n"
     ]
    }
   ],
   "source": [
    "print(\"Standard Deviation =\", standard_deviation(data)) "
   ]
  },
  {
   "cell_type": "markdown",
   "id": "eb6f0150-2577-4ada-96e7-4575b8ea7b03",
   "metadata": {},
   "source": [
    "### Square Root"
   ]
  },
  {
   "cell_type": "code",
   "execution_count": 12,
   "id": "d774b39d-e4d6-4413-997f-3d5061dc9638",
   "metadata": {},
   "outputs": [
    {
     "name": "stdout",
     "output_type": "stream",
     "text": [
      "Square root of 16 = 4.0\n"
     ]
    }
   ],
   "source": [
    "print(\"Square root of 16 =\", square_root(16))  "
   ]
  }
 ],
 "metadata": {
  "kernelspec": {
   "display_name": "Python 3 (ipykernel)",
   "language": "python",
   "name": "python3"
  },
  "language_info": {
   "codemirror_mode": {
    "name": "ipython",
    "version": 3
   },
   "file_extension": ".py",
   "mimetype": "text/x-python",
   "name": "python",
   "nbconvert_exporter": "python",
   "pygments_lexer": "ipython3",
   "version": "3.13.5"
  }
 },
 "nbformat": 4,
 "nbformat_minor": 5
}
